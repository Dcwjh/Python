{
 "cells": [
  {
   "cell_type": "markdown",
   "metadata": {},
   "source": [
    "#  拟合曲线"
   ]
  },
  {
   "cell_type": "code",
   "execution_count": 369,
   "metadata": {},
   "outputs": [],
   "source": [
    "import pandas as pd\n",
    "import numpy as np\n",
    "import matplotlib.pyplot as plt \n",
    "from collections import Counter\n",
    "from math import log\n",
    "from math import e"
   ]
  },
  {
   "cell_type": "code",
   "execution_count": 371,
   "metadata": {},
   "outputs": [],
   "source": [
    "data = pd.read_csv('C:\\\\Users\\\\Mr.Wang\\\\zhihudata\\\\tongji.csv')"
   ]
  },
  {
   "cell_type": "code",
   "execution_count": 404,
   "metadata": {},
   "outputs": [],
   "source": [
    "data = data.fillna(value=0)\n",
    "data = data.sort_values([\"following_count\"],ascending=True)"
   ]
  },
  {
   "cell_type": "code",
   "execution_count": 406,
   "metadata": {},
   "outputs": [],
   "source": [
    "following_count = pd.to_numeric(data.following_count)  # 类型转换\n",
    "cfollowing = Counter()   # 使用Counter类进行统计\n",
    "# print(following_count)\n",
    "for item in following_count:\n",
    "    cfollowing[item] += 1\n",
    "#print(cfollowing)"
   ]
  },
  {
   "cell_type": "code",
   "execution_count": 408,
   "metadata": {},
   "outputs": [],
   "source": [
    "# Counter.most_common(cfollowing,10)  # 输出前十个结果"
   ]
  },
  {
   "cell_type": "markdown",
   "metadata": {},
   "source": [
    "## 将Counter字典类型转化为DataFrame类型"
   ]
  },
  {
   "cell_type": "code",
   "execution_count": 449,
   "metadata": {},
   "outputs": [
    {
     "data": {
      "text/html": [
       "<div>\n",
       "<style scoped>\n",
       "    .dataframe tbody tr th:only-of-type {\n",
       "        vertical-align: middle;\n",
       "    }\n",
       "\n",
       "    .dataframe tbody tr th {\n",
       "        vertical-align: top;\n",
       "    }\n",
       "\n",
       "    .dataframe thead th {\n",
       "        text-align: right;\n",
       "    }\n",
       "</style>\n",
       "<table border=\"1\" class=\"dataframe\">\n",
       "  <thead>\n",
       "    <tr style=\"text-align: right;\">\n",
       "      <th></th>\n",
       "      <th>key</th>\n",
       "      <th>cnts</th>\n",
       "    </tr>\n",
       "  </thead>\n",
       "  <tbody>\n",
       "    <tr>\n",
       "      <th>0</th>\n",
       "      <td>0.0</td>\n",
       "      <td>3540</td>\n",
       "    </tr>\n",
       "    <tr>\n",
       "      <th>1</th>\n",
       "      <td>1.0</td>\n",
       "      <td>5860</td>\n",
       "    </tr>\n",
       "    <tr>\n",
       "      <th>2</th>\n",
       "      <td>2.0</td>\n",
       "      <td>4470</td>\n",
       "    </tr>\n",
       "    <tr>\n",
       "      <th>3</th>\n",
       "      <td>3.0</td>\n",
       "      <td>3954</td>\n",
       "    </tr>\n",
       "    <tr>\n",
       "      <th>4</th>\n",
       "      <td>4.0</td>\n",
       "      <td>3374</td>\n",
       "    </tr>\n",
       "  </tbody>\n",
       "</table>\n",
       "</div>"
      ],
      "text/plain": [
       "   key  cnts\n",
       "0  0.0  3540\n",
       "1  1.0  5860\n",
       "2  2.0  4470\n",
       "3  3.0  3954\n",
       "4  4.0  3374"
      ]
     },
     "execution_count": 449,
     "metadata": {},
     "output_type": "execute_result"
    }
   ],
   "source": [
    "df = pd.DataFrame.from_dict(cfollowing, orient='index').reset_index()\n",
    "df.columns = ['key', 'cnts']\n",
    "df.to_csv(\"Gehpi.csv\")\n",
    "df.head()"
   ]
  },
  {
   "cell_type": "code",
   "execution_count": 412,
   "metadata": {},
   "outputs": [
    {
     "data": {
      "text/html": [
       "<div>\n",
       "<style scoped>\n",
       "    .dataframe tbody tr th:only-of-type {\n",
       "        vertical-align: middle;\n",
       "    }\n",
       "\n",
       "    .dataframe tbody tr th {\n",
       "        vertical-align: top;\n",
       "    }\n",
       "\n",
       "    .dataframe thead th {\n",
       "        text-align: right;\n",
       "    }\n",
       "</style>\n",
       "<table border=\"1\" class=\"dataframe\">\n",
       "  <thead>\n",
       "    <tr style=\"text-align: right;\">\n",
       "      <th></th>\n",
       "      <th>key</th>\n",
       "      <th>cnts</th>\n",
       "    </tr>\n",
       "  </thead>\n",
       "  <tbody>\n",
       "    <tr>\n",
       "      <th>0</th>\n",
       "      <td>0.644726</td>\n",
       "      <td>2.269267</td>\n",
       "    </tr>\n",
       "    <tr>\n",
       "      <th>1</th>\n",
       "      <td>0.882234</td>\n",
       "      <td>2.320048</td>\n",
       "    </tr>\n",
       "    <tr>\n",
       "      <th>2</th>\n",
       "      <td>1.012605</td>\n",
       "      <td>2.293088</td>\n",
       "    </tr>\n",
       "    <tr>\n",
       "      <th>3</th>\n",
       "      <td>1.099970</td>\n",
       "      <td>2.280632</td>\n",
       "    </tr>\n",
       "    <tr>\n",
       "      <th>4</th>\n",
       "      <td>1.164633</td>\n",
       "      <td>2.264291</td>\n",
       "    </tr>\n",
       "  </tbody>\n",
       "</table>\n",
       "</div>"
      ],
      "text/plain": [
       "        key      cnts\n",
       "0  0.644726  2.269267\n",
       "1  0.882234  2.320048\n",
       "2  1.012605  2.293088\n",
       "3  1.099970  2.280632\n",
       "4  1.164633  2.264291"
      ]
     },
     "execution_count": 412,
     "metadata": {},
     "output_type": "execute_result"
    }
   ],
   "source": [
    "df = np.log(df+1.5)\n",
    "df.head()"
   ]
  },
  {
   "cell_type": "code",
   "execution_count": 414,
   "metadata": {},
   "outputs": [],
   "source": [
    "#df.plot.scatter(x='key',y='cnts',color='DarkBlue')"
   ]
  },
  {
   "cell_type": "markdown",
   "metadata": {},
   "source": [
    "##  方法一：\n",
    "[微博地址](https://blog.csdn.net/kk185800961/article/details/79220724)"
   ]
  },
  {
   "cell_type": "code",
   "execution_count": 418,
   "metadata": {},
   "outputs": [],
   "source": [
    "import statsmodels.formula.api as smf \n",
    "from mpl_toolkits.mplot3d import Axes3D\n",
    "\n",
    "X = df['key'] \n",
    "y = df['cnts']"
   ]
  },
  {
   "cell_type": "code",
   "execution_count": 423,
   "metadata": {},
   "outputs": [
    {
     "name": "stdout",
     "output_type": "stream",
     "text": [
      "                            OLS Regression Results                            \n",
      "==============================================================================\n",
      "Dep. Variable:                   cnts   R-squared:                       0.803\n",
      "Model:                            OLS   Adj. R-squared:                  0.803\n",
      "Method:                 Least Squares   F-statistic:                 1.191e+04\n",
      "Date:                Sat, 12 May 2018   Prob (F-statistic):               0.00\n",
      "Time:                        17:14:54   Log-Likelihood:                 1310.4\n",
      "No. Observations:                2917   AIC:                            -2617.\n",
      "Df Residuals:                    2915   BIC:                            -2605.\n",
      "Df Model:                           1                                         \n",
      "Covariance Type:            nonrobust                                         \n",
      "==============================================================================\n",
      "                 coef    std err          t      P>|t|      [0.025      0.975]\n",
      "------------------------------------------------------------------------------\n",
      "Intercept      5.7043      0.041    138.029      0.000       5.623       5.785\n",
      "key           -2.1009      0.019   -109.143      0.000      -2.139      -2.063\n",
      "==============================================================================\n",
      "Omnibus:                     1374.538   Durbin-Watson:                   0.566\n",
      "Prob(Omnibus):                  0.000   Jarque-Bera (JB):            43347.142\n",
      "Skew:                          -1.613   Prob(JB):                         0.00\n",
      "Kurtosis:                      21.608   Cond. No.                         37.7\n",
      "==============================================================================\n",
      "\n",
      "Warnings:\n",
      "[1] Standard Errors assume that the covariance matrix of the errors is correctly specified.\n"
     ]
    },
    {
     "data": {
      "image/png": "[encoded data removed]",
      "text/plain": [
       "<matplotlib.figure.Figure at 0x1db9daece10>"
      ]
     },
     "metadata": {},
     "output_type": "display_data"
    }
   ],
   "source": [
    "est = smf.ols(formula='cnts ~ key', data=df).fit()  \n",
    "y_pred = est.predict(X)  \n",
    "print(est.summary())    \n",
    "fig = plt.figure()  \n",
    "ax = fig.add_subplot(111)  \n",
    "ax.scatter(X, y, c='b')  \n",
    "ax.plot(X, y_pred, c='r')  \n",
    "plt.show() "
   ]
  },
  {
   "cell_type": "markdown",
   "metadata": {},
   "source": [
    "## 方法二：\n",
    "[博客地址](https://blog.csdn.net/qq_17119267/article/details/79108333)"
   ]
  },
  {
   "cell_type": "code",
   "execution_count": 427,
   "metadata": {},
   "outputs": [],
   "source": [
    "x = df['key'].values\n",
    "X = sm.add_constant(x)\n",
    "y = df['cnts'].values\n"
   ]
  },
  {
   "cell_type": "code",
   "execution_count": 428,
   "metadata": {},
   "outputs": [
    {
     "name": "stdout",
     "output_type": "stream",
     "text": [
      "                            OLS Regression Results                            \n",
      "==============================================================================\n",
      "Dep. Variable:                      y   R-squared:                       0.672\n",
      "Model:                            OLS   Adj. R-squared:                  0.672\n",
      "Method:                 Least Squares   F-statistic:                     5967.\n",
      "Date:                Sat, 12 May 2018   Prob (F-statistic):               0.00\n",
      "Time:                        17:15:07   Log-Likelihood:                 4792.9\n",
      "No. Observations:                2917   AIC:                            -9582.\n",
      "Df Residuals:                    2915   BIC:                            -9570.\n",
      "Df Model:                           1                                         \n",
      "Covariance Type:            nonrobust                                         \n",
      "==============================================================================\n",
      "                 coef    std err          t      P>|t|      [0.025      0.975]\n",
      "------------------------------------------------------------------------------\n",
      "const          2.6261      0.027     98.739      0.000       2.574       2.678\n",
      "x1            -2.6942      0.035    -77.249      0.000      -2.763      -2.626\n",
      "==============================================================================\n",
      "Omnibus:                     1962.660   Durbin-Watson:                   0.480\n",
      "Prob(Omnibus):                  0.000   Jarque-Bera (JB):           125973.518\n",
      "Skew:                          -2.491   Prob(JB):                         0.00\n",
      "Kurtosis:                      34.806   Cond. No.                         63.6\n",
      "==============================================================================\n",
      "\n",
      "Warnings:\n",
      "[1] Standard Errors assume that the covariance matrix of the errors is correctly specified.\n"
     ]
    }
   ],
   "source": [
    "results = sm.OLS(y, X).fit()\n",
    "print(results.summary())"
   ]
  },
  {
   "cell_type": "code",
   "execution_count": 431,
   "metadata": {},
   "outputs": [
    {
     "data": {
      "image/png": "[encoded data removed]",
      "text/plain": [
       "<matplotlib.figure.Figure at 0x1db9dac0d68>"
      ]
     },
     "metadata": {},
     "output_type": "display_data"
    },
    {
     "name": "stdout",
     "output_type": "stream",
     "text": [
      "                            OLS Regression Results                            \n",
      "==============================================================================\n",
      "Dep. Variable:                      y   R-squared:                       0.672\n",
      "Model:                            OLS   Adj. R-squared:                  0.672\n",
      "Method:                 Least Squares   F-statistic:                     5967.\n",
      "Date:                Sat, 12 May 2018   Prob (F-statistic):               0.00\n",
      "Time:                        17:15:17   Log-Likelihood:                 4792.9\n",
      "No. Observations:                2917   AIC:                            -9582.\n",
      "Df Residuals:                    2915   BIC:                            -9570.\n",
      "Df Model:                           1                                         \n",
      "Covariance Type:            nonrobust                                         \n",
      "==============================================================================\n",
      "                 coef    std err          t      P>|t|      [0.025      0.975]\n",
      "------------------------------------------------------------------------------\n",
      "const          2.6261      0.027     98.739      0.000       2.574       2.678\n",
      "x1            -2.6942      0.035    -77.249      0.000      -2.763      -2.626\n",
      "==============================================================================\n",
      "Omnibus:                     1962.660   Durbin-Watson:                   0.480\n",
      "Prob(Omnibus):                  0.000   Jarque-Bera (JB):           125973.518\n",
      "Skew:                          -2.491   Prob(JB):                         0.00\n",
      "Kurtosis:                      34.806   Cond. No.                         63.6\n",
      "==============================================================================\n",
      "\n",
      "Warnings:\n",
      "[1] Standard Errors assume that the covariance matrix of the errors is correctly specified.\n"
     ]
    }
   ],
   "source": [
    "fig, ax = plt.subplots(figsize=(10,8))\n",
    "ax.plot(x, y, 'bo', label=\"data\")\n",
    "ax.plot(x, results.fittedvalues, 'r--', label=\"OLS\")\n",
    "ax.legend(loc='best')\n",
    "ax.axis((0, 10, 0, 10))\n",
    "plt.show()\n",
    "results = sm.OLS(y, X).fit()\n",
    "print(results.summary())\n"
   ]
  },
  {
   "cell_type": "markdown",
   "metadata": {},
   "source": [
    "# 完整代码"
   ]
  },
  {
   "cell_type": "code",
   "execution_count": 432,
   "metadata": {},
   "outputs": [
    {
     "data": {
      "text/html": [
       "<div>\n",
       "<style scoped>\n",
       "    .dataframe tbody tr th:only-of-type {\n",
       "        vertical-align: middle;\n",
       "    }\n",
       "\n",
       "    .dataframe tbody tr th {\n",
       "        vertical-align: top;\n",
       "    }\n",
       "\n",
       "    .dataframe thead th {\n",
       "        text-align: right;\n",
       "    }\n",
       "</style>\n",
       "<table border=\"1\" class=\"dataframe\">\n",
       "  <thead>\n",
       "    <tr style=\"text-align: right;\">\n",
       "      <th></th>\n",
       "      <th>key</th>\n",
       "      <th>cnts</th>\n",
       "    </tr>\n",
       "  </thead>\n",
       "  <tbody>\n",
       "    <tr>\n",
       "      <th>0</th>\n",
       "      <td>2.342176</td>\n",
       "      <td>2.377824</td>\n",
       "    </tr>\n",
       "    <tr>\n",
       "      <th>1</th>\n",
       "      <td>2.350431</td>\n",
       "      <td>2.378476</td>\n",
       "    </tr>\n",
       "    <tr>\n",
       "      <th>2</th>\n",
       "      <td>2.354256</td>\n",
       "      <td>2.378132</td>\n",
       "    </tr>\n",
       "    <tr>\n",
       "      <th>3</th>\n",
       "      <td>2.356599</td>\n",
       "      <td>2.377971</td>\n",
       "    </tr>\n",
       "    <tr>\n",
       "      <th>4</th>\n",
       "      <td>2.358233</td>\n",
       "      <td>2.377759</td>\n",
       "    </tr>\n",
       "  </tbody>\n",
       "</table>\n",
       "</div>"
      ],
      "text/plain": [
       "        key      cnts\n",
       "0  2.342176  2.377824\n",
       "1  2.350431  2.378476\n",
       "2  2.354256  2.378132\n",
       "3  2.356599  2.377971\n",
       "4  2.358233  2.377759"
      ]
     },
     "execution_count": 432,
     "metadata": {},
     "output_type": "execute_result"
    }
   ],
   "source": [
    "import pandas as pd\n",
    "import numpy as np\n",
    "import matplotlib.pyplot as plt \n",
    "from collections import Counter\n",
    "from math import log\n",
    "from math import e\n",
    "\n",
    "\n",
    "\n",
    "data = pd.read_csv('C:\\\\Users\\\\Mr.Wang\\\\zhihudata\\\\tongji.csv')\n",
    "data = data.fillna(value=0)\n",
    "\n",
    "data = data.sort_values([\"following_count\"],ascending=True)\n",
    "\n",
    "following_count = pd.to_numeric(data.following_count)  # 类型转换\n",
    "cfollowing = Counter()   # 使用Counter类进行统计\n",
    "# print(following_count)\n",
    "for item in following_count:\n",
    "    cfollowing[item] += 1\n",
    "#print(cfollowing)\n",
    "\n",
    "df = np.log(df+10)\n",
    "df.head()\n",
    "\n",
    "\n",
    "\n"
   ]
  },
  {
   "cell_type": "code",
   "execution_count": 433,
   "metadata": {},
   "outputs": [
    {
     "data": {
      "image/png": "[encoded data removed]",
      "text/plain": [
       "<matplotlib.figure.Figure at 0x1db9cfdda58>"
      ]
     },
     "metadata": {},
     "output_type": "display_data"
    },
    {
     "name": "stdout",
     "output_type": "stream",
     "text": [
      "                            OLS Regression Results                            \n",
      "==============================================================================\n",
      "Dep. Variable:                      y   R-squared:                       0.667\n",
      "Model:                            OLS   Adj. R-squared:                  0.667\n",
      "Method:                 Least Squares   F-statistic:                     5831.\n",
      "Date:                Sat, 12 May 2018   Prob (F-statistic):               0.00\n",
      "Time:                        17:15:18   Log-Likelihood:                 11657.\n",
      "No. Observations:                2917   AIC:                        -2.331e+04\n",
      "Df Residuals:                    2915   BIC:                        -2.330e+04\n",
      "Df Model:                           1                                         \n",
      "Covariance Type:            nonrobust                                         \n",
      "==============================================================================\n",
      "                 coef    std err          t      P>|t|      [0.025      0.975]\n",
      "------------------------------------------------------------------------------\n",
      "const          8.8040      0.084    104.295      0.000       8.639       8.970\n",
      "x1            -2.7128      0.036    -76.359      0.000      -2.782      -2.643\n",
      "==============================================================================\n",
      "Omnibus:                     1973.729   Durbin-Watson:                   0.478\n",
      "Prob(Omnibus):                  0.000   Jarque-Bera (JB):           128998.500\n",
      "Skew:                          -2.508   Prob(JB):                         0.00\n",
      "Kurtosis:                      35.190   Cond. No.                     2.87e+03\n",
      "==============================================================================\n",
      "\n",
      "Warnings:\n",
      "[1] Standard Errors assume that the covariance matrix of the errors is correctly specified.\n",
      "[2] The condition number is large, 2.87e+03. This might indicate that there are\n",
      "strong multicollinearity or other numerical problems.\n"
     ]
    }
   ],
   "source": [
    "x = df['key'].values\n",
    "X = sm.add_constant(x)\n",
    "y = df['cnts'].values\n",
    "fig, ax = plt.subplots(figsize=(10,8))\n",
    "ax.plot(x, y, 'bo', label=\"data\")\n",
    "ax.plot(x, results.fittedvalues, 'r--', label=\"OLS\")\n",
    "ax.legend(loc='best')\n",
    "ax.axis((0, 10, 0, 10))\n",
    "plt.show()\n",
    "results = sm.OLS(y, X).fit()\n",
    "print(results.summary())"
   ]
  },
  {
   "cell_type": "markdown",
   "metadata": {},
   "source": [
    "## 清晰的讲解\n",
    "[博客地址](https://www.joinquant.com/post/1786?f=study&m=python)"
   ]
  },
  {
   "cell_type": "code",
   "execution_count": 448,
   "metadata": {},
   "outputs": [
    {
     "name": "stdout",
     "output_type": "stream",
     "text": [
      "        key      cnts\n",
      "2  1.551445  8.405752\n",
      "3  1.743668  8.283170\n",
      "4  1.904832  8.124660\n",
      "5  2.043592  8.031619\n",
      "6  2.165422  7.933337\n",
      "                            OLS Regression Results                            \n",
      "==============================================================================\n",
      "Dep. Variable:                   cnts   R-squared:                       0.982\n",
      "Model:                            OLS   Adj. R-squared:                  0.982\n",
      "Method:                 Least Squares   F-statistic:                 1.080e+04\n",
      "Date:                Sat, 12 May 2018   Prob (F-statistic):          2.26e-173\n",
      "Time:                        17:35:58   Log-Likelihood:                 153.39\n",
      "No. Observations:                 198   AIC:                            -302.8\n",
      "Df Residuals:                     196   BIC:                            -296.2\n",
      "Df Model:                           1                                         \n",
      "Covariance Type:            nonrobust                                         \n",
      "==============================================================================\n",
      "                 coef    std err          t      P>|t|      [0.025      0.975]\n",
      "------------------------------------------------------------------------------\n",
      "Intercept     10.3852      0.043    239.549      0.000      10.300      10.471\n",
      "key           -1.0085      0.010   -103.930      0.000      -1.028      -0.989\n",
      "==============================================================================\n",
      "Omnibus:                       25.195   Durbin-Watson:                   0.626\n",
      "Prob(Omnibus):                  0.000   Jarque-Bera (JB):               33.398\n",
      "Skew:                          -0.801   Prob(JB):                     5.59e-08\n",
      "Kurtosis:                       4.218   Cond. No.                         25.5\n",
      "==============================================================================\n",
      "\n",
      "Warnings:\n",
      "[1] Standard Errors assume that the covariance matrix of the errors is correctly specified.\n"
     ]
    },
    {
     "data": {
      "image/png": "[encoded data removed]",
      "text/plain": [
       "<matplotlib.figure.Figure at 0x1db9800a400>"
      ]
     },
     "metadata": {},
     "output_type": "display_data"
    }
   ],
   "source": [
    "import pandas as pd\n",
    "import numpy as np\n",
    "import matplotlib.pyplot as plt\n",
    "from collections import Counter\n",
    "import statsmodels.formula.api as smf\n",
    "from math import log\n",
    "from math import e\n",
    "data = pd.read_csv('C:\\\\Users\\\\Mr.Wang\\\\zhihudata\\\\tongji.csv')\n",
    "data = data.fillna(value=0)\n",
    "data = data.sort_values([\"following_count\"],ascending=True)\n",
    "\n",
    "following_count = pd.to_numeric(data.following_count)  # 类型转换\n",
    "\n",
    "\n",
    "cfollowing = Counter()   # 使用Counter类进行统计\n",
    "# print(following_count)\n",
    "for item in following_count:\n",
    "    cfollowing[item] += 1\n",
    "#print(cfollowing)\n",
    "\n",
    "df = pd.DataFrame.from_dict(cfollowing, orient='index').reset_index()\n",
    "df.columns = ['key', 'cnts']\n",
    "df = df.loc[df['key']< 200] \n",
    "df = df.loc[df['key']> 1]\n",
    "\n",
    "df = np.log(df+e)\n",
    "print(df.head())\n",
    "X = df['key']\n",
    "y = df['cnts']\n",
    "est = smf.ols(formula='cnts ~ key', data=df).fit()\n",
    "y_pred = est.predict(X)\n",
    "print(est.summary())\n",
    "fig = plt.figure()\n",
    "ax = fig.add_subplot(111)\n",
    "ax.scatter(X, y, c='b')\n",
    "ax.plot(X, y_pred, c='r')\n",
    "plt.show()"
   ]
  },
  {
   "cell_type": "code",
   "execution_count": null,
   "metadata": {},
   "outputs": [],
   "source": []
  },
  {
   "cell_type": "code",
   "execution_count": null,
   "metadata": {},
   "outputs": [],
   "source": []
  }
 ],
 "metadata": {
  "kernelspec": {
   "display_name": "Python 3",
   "language": "python",
   "name": "python3"
  },
  "language_info": {
   "codemirror_mode": {
    "name": "ipython",
    "version": 3
   },
   "file_extension": ".py",
   "mimetype": "text/x-python",
   "name": "python",
   "nbconvert_exporter": "python",
   "pygments_lexer": "ipython3",
   "version": "3.6.4"
  }
 },
 "nbformat": 4,
 "nbformat_minor": 2
}
